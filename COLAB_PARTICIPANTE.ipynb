{
  "cells": [
    {
      "cell_type": "markdown",
      "metadata": {
        "id": "AF7y1652NZvB"
      },
      "source": [
        "# COLAB/PARTICIPANTE\n",
        "\n",
        "Para cada selfie não processada, baixa a selfie e procura fotos desta pessoa no evento. Ao encontrar as imagens, envia elas para o e-mail."
      ]
    },
    {
      "cell_type": "markdown",
      "metadata": {
        "id": "rFNplCheOp9t"
      },
      "source": [
        "# Setup"
      ]
    },
    {
      "cell_type": "code",
      "execution_count": null,
      "metadata": {
        "id": "xSloQIztpAyK"
      },
      "outputs": [],
      "source": [
        "!pip install --quiet google-auth google-auth-oauthlib google-auth-httplib2 google-api-python-client\n",
        "!pip install --quiet --upgrade google-api-python-client\n",
        "!pip install --quiet python-docx deepface unidecode\n",
        "\n",
        "from google.colab import auth\n",
        "import googleapiclient\n",
        "from googleapiclient.discovery import build\n",
        "from googleapiclient.http import MediaFileUpload\n",
        "from googleapiclient.http import MediaIoBaseDownload\n",
        "\n",
        "import io\n",
        "import os\n",
        "import zipfile\n",
        "import unidecode\n",
        "import numpy as np\n",
        "import pandas as pd\n",
        "from tqdm import tqdm\n",
        "from docx import Document\n",
        "from deepface import DeepFace\n",
        "import matplotlib.pyplot as plt\n",
        "\n",
        "# for email stuff\n",
        "import smtplib\n",
        "from email.mime.multipart import MIMEMultipart\n",
        "from email.mime.base import MIMEBase\n",
        "from email import encoders\n",
        "from email.mime.text import MIMEText\n",
        "import getpass"
      ]
    },
    {
      "cell_type": "code",
      "execution_count": null,
      "metadata": {
        "id": "yfK9fHKyOZHe"
      },
      "outputs": [],
      "source": [
        "# Necessary paths with respective Google Drive IDs (follows this: drive.google.com/drive/u/1/folders/{ID})\n",
        "SHOWFACE_FOLDER = '1iUXrRc9p0CL-xSXXBuPjjQ0xHtL9YimY' # main showface folder\n",
        "SELFIES_FOLDER = '1BufjlvWUhOukoZlr15aa2O_3RswchW3AxBhFOn0VNqRwVUVR3Wv4x95RzQk7W0qrrZ64VDZB'\n",
        "SELFIES_DOCS = '1HCVTIHQ0DIQRWyl1vAuW-XU6anK_CqD_GIGGCnkcV6E'\n",
        "ALBUMS_FOLDER = '1ra03dT_nthAPFHh_zFeKfgT91_kiU2Cq'"
      ]
    },
    {
      "cell_type": "markdown",
      "metadata": {
        "id": "RFYZHWQ1Ilcc"
      },
      "source": [
        "### Useful functions"
      ]
    },
    {
      "cell_type": "code",
      "execution_count": null,
      "metadata": {
        "id": "JJWvTM7THler"
      },
      "outputs": [],
      "source": [
        "def list_files_in_shared_folder(folder_id):\n",
        "    query = f\"'{folder_id}' in parents and trashed = false\"\n",
        "    results = drive_service.files().list(q=query, fields=\"files(id, name)\").execute()\n",
        "    files = results.get('files', [])\n",
        "    if not files:\n",
        "        print(\"No files found in the shared folder.\")\n",
        "    else:\n",
        "        print(\"Files in the shared folder:\")\n",
        "        for file in files:\n",
        "            print(f\"Name: {file['name']}, ID: {file['id']}\")\n",
        "    return files"
      ]
    },
    {
      "cell_type": "code",
      "execution_count": null,
      "metadata": {
        "id": "xSC9eQNvHlAd"
      },
      "outputs": [],
      "source": [
        "def download_file(file_id, file_name, extension):\n",
        "    \"\"\"Downloads a file from Google Drive by ID.\"\"\"\n",
        "    request = drive_service.files().get_media(fileId=file_id)\n",
        "    file_path = f\"/content/{file_name}.{extension}\"\n",
        "\n",
        "    with open(file_path, 'wb') as file:\n",
        "        downloader = googleapiclient.http.MediaIoBaseDownload(file, request)\n",
        "        done = False\n",
        "        while not done:\n",
        "            status, done = downloader.next_chunk()\n",
        "            print(f\"Download {int(status.progress() * 100)}% complete.\")\n",
        "\n",
        "    print(f\"File downloaded to {file_path}\")\n",
        "    return file_path"
      ]
    },
    {
      "cell_type": "code",
      "execution_count": null,
      "metadata": {
        "id": "1FHaQXz2UOeY"
      },
      "outputs": [],
      "source": [
        "def get_google_sheet_as_dataframe(file_id):\n",
        "    \"\"\"Download a Google Spreadsheet as CSV and return it as a pandas DataFrame.\"\"\"\n",
        "    try:\n",
        "        # Export the spreadsheet as CSV\n",
        "        request = drive_service.files().export_media(\n",
        "            fileId=file_id,\n",
        "            mimeType='text/csv'\n",
        "        )\n",
        "        # Save the exported CSV to memory\n",
        "        csv_data = request.execute()\n",
        "\n",
        "        # Load the CSV data into a pandas DataFrame\n",
        "        from io import StringIO\n",
        "        table_df = pd.read_csv(StringIO(csv_data.decode('utf-8')))\n",
        "\n",
        "        return table_df\n",
        "\n",
        "    except Exception as e:\n",
        "        print(f\"An error occurred while processing the spreadsheet with ID {file_id}: {e}\")\n",
        "        return None\n"
      ]
    },
    {
      "cell_type": "code",
      "execution_count": null,
      "metadata": {
        "id": "B0NFcDj59iB8"
      },
      "outputs": [],
      "source": [
        "def download_folder_contents(folder_id, download_path):\n",
        "    \"\"\"Downloads all files from a specified Google Drive folder.\"\"\"\n",
        "    # Ensure the download path exists\n",
        "    os.makedirs(download_path, exist_ok=True)\n",
        "\n",
        "    # Query to list all files in the specified folder\n",
        "    query = f\"'{folder_id}' in parents and trashed = false\"\n",
        "    results = drive_service.files().list(pageSize=1000, q=query, fields=\"files(id, name)\").execute()\n",
        "    files = results.get('files', [])\n",
        "\n",
        "    if not files:\n",
        "        print(\"No files found in the specified folder.\")\n",
        "        return\n",
        "\n",
        "    print(f\"Found {len(files)} files in the folder. Starting download...\")\n",
        "\n",
        "    for file in files:\n",
        "        file_id = file['id']\n",
        "        file_name = file['name']\n",
        "\n",
        "        # Request to download the file\n",
        "        request = drive_service.files().get_media(fileId=file_id)\n",
        "        file_path = os.path.join(download_path, file_name)\n",
        "\n",
        "        with io.FileIO(file_path, 'wb') as file_obj:\n",
        "            downloader = MediaIoBaseDownload(file_obj, request)\n",
        "            done = False\n",
        "            while not done:\n",
        "                _, done = downloader.next_chunk()\n",
        "\n",
        "    print(\"All files downloaded successfully.\")\n"
      ]
    },
    {
      "cell_type": "code",
      "source": [
        "def send_email_with_images(recipient_email, image_paths, sender_email, sender_password, person_name, event_name):\n",
        "    \"\"\"Sends an email with images as attachments\"\"\"\n",
        "\n",
        "    # SMTP server settings\n",
        "    smtp_server = \"smtp.gmail.com\"\n",
        "    smtp_port = 587  # Port for TLS\n",
        "\n",
        "    # Creating the email body\n",
        "    msg = MIMEMultipart()\n",
        "    msg['From'] = sender_email\n",
        "    msg['To'] = recipient_email\n",
        "    msg['Subject'] = \"Sua solicitação de imagens no Showface\"  # Email subject\n",
        "\n",
        "    email_body = (\n",
        "        f\"Olá {person_name}, tudo bem?\\n\\n\"\n",
        "        f\"Vimos que você solicitou suas fotos para o evento {event_name}. Você pode encontrá-las em anexo, no e-mail! \\n\\n\"\n",
        "        \"Showface\"\n",
        "    )\n",
        "    msg.attach(MIMEText(email_body, 'plain'))\n",
        "\n",
        "    # Attach images to the email\n",
        "    valid_attachments = True\n",
        "\n",
        "    for image_path in image_paths:\n",
        "        if not os.path.isfile(image_path):\n",
        "            print(f\"Error: File not found or invalid path: {image_path}\")\n",
        "            valid_attachments = False\n",
        "            continue\n",
        "\n",
        "        try:\n",
        "            with open(image_path, \"rb\") as file:\n",
        "                attachment = MIMEBase('application', 'octet-stream')\n",
        "                attachment.set_payload(file.read())\n",
        "                encoders.encode_base64(attachment)\n",
        "                attachment_name = os.path.basename(image_path)\n",
        "                attachment.add_header(\n",
        "                    'Content-Disposition', f'attachment; filename={attachment_name}'\n",
        "                )\n",
        "                msg.attach(attachment)\n",
        "        except Exception as e:\n",
        "            print(f\"Error attaching file {image_path}: {e}\")\n",
        "            valid_attachments = False\n",
        "\n",
        "    # Send the email only if all attachments are valid\n",
        "    if valid_attachments:\n",
        "        try:\n",
        "            with smtplib.SMTP(smtp_server, smtp_port) as server:\n",
        "                server.starttls()  # Secure the connection\n",
        "                server.login(sender_email, sender_password)\n",
        "                server.sendmail(sender_email, recipient_email, msg.as_string())\n",
        "                print(f\"Email successfully sent to {recipient_email}.\")\n",
        "        except Exception as e:\n",
        "            print(f\"Error sending email: {str(e)}\")\n",
        "    else:\n",
        "        print(\"Email sending canceled due to issues with attachments.\")"
      ],
      "metadata": {
        "id": "DDlYOHi7BGma"
      },
      "execution_count": null,
      "outputs": []
    },
    {
      "cell_type": "code",
      "source": [
        "def update_google_sheet_from_dataframe(spreadsheet_id, dataframe):\n",
        "    \"\"\"Update a Google Spreadsheet with the contents of a pandas DataFrame, starting at A1.\"\"\"\n",
        "    try:\n",
        "\n",
        "        dataframe = dataframe.fillna(\"\")\n",
        "\n",
        "        # Convert the DataFrame to a list of lists (Google Sheets format)\n",
        "        values = [dataframe.columns.tolist()] + dataframe.values.tolist()\n",
        "\n",
        "        # Create the request body\n",
        "        body = {\n",
        "            \"majorDimension\": \"ROWS\",\n",
        "            \"values\": values\n",
        "        }\n",
        "\n",
        "        # Use the Sheets API to update the entire spreadsheet, starting from A1\n",
        "        sheets_service.spreadsheets().values().update(\n",
        "            spreadsheetId=spreadsheet_id,\n",
        "            range=\"A1\",  # Always starts at the first cell\n",
        "            valueInputOption=\"RAW\",\n",
        "            body=body\n",
        "        ).execute()\n",
        "\n",
        "        print(f\"Spreadsheet {spreadsheet_id} updated successfully.\")\n",
        "\n",
        "    except Exception as e:\n",
        "        print(f\"An error occurred while updating the spreadsheet with ID {spreadsheet_id}: {e}\")\n"
      ],
      "metadata": {
        "id": "U-p-x4OQXqbt"
      },
      "execution_count": null,
      "outputs": []
    },
    {
      "cell_type": "markdown",
      "metadata": {
        "id": "1V0YIqO7Ifr8"
      },
      "source": [
        "## Authentication"
      ]
    },
    {
      "cell_type": "code",
      "execution_count": null,
      "metadata": {
        "colab": {
          "base_uri": "https://localhost:8080/"
        },
        "id": "LZ2JKivSCS4K",
        "outputId": "834817b0-7a6e-4b9a-f8bf-a3d89dd82bbf"
      },
      "outputs": [
        {
          "output_type": "stream",
          "name": "stdout",
          "text": [
            "Authentication complete!\n"
          ]
        }
      ],
      "source": [
        "# Authenticate with Colab's native method\n",
        "auth.authenticate_user()\n",
        "\n",
        "# Initialize the Drive API\n",
        "SCOPES = ['https://www.googleapis.com/auth/drive']\n",
        "drive_service = build('drive', 'v3')\n",
        "sheets_service = build('sheets', 'v4')\n",
        "print(\"Authentication complete!\")"
      ]
    },
    {
      "cell_type": "code",
      "execution_count": null,
      "metadata": {
        "colab": {
          "base_uri": "https://localhost:8080/"
        },
        "id": "sw6twkiiD_VF",
        "outputId": "7b39bbfa-31c4-42b0-aa30-062e5fc6ff67"
      },
      "outputs": [
        {
          "output_type": "stream",
          "name": "stdout",
          "text": [
            "Files in the shared folder:\n",
            "Name: Envio de Selfie - Usuário (respostas), ID: 1HCVTIHQ0DIQRWyl1vAuW-XU6anK_CqD_GIGGCnkcV6E\n",
            "Name: Envio de Álbum - Organizador (respostas), ID: 1RcmynInVP3jFfeqd7g8ocq8El1iOg2Qa3VpBGc-_JNY\n",
            "Name: Envio de Selfie - Usuário, ID: 1BNUjfznWTN6AcPNi2nABAcRUJ08CnNaoacZ-PH6kqzM\n",
            "Name: Albums, ID: 1ra03dT_nthAPFHh_zFeKfgT91_kiU2Cq\n",
            "Name: Colabs, ID: 1HXfpPcdXlm8LUGjPFux0vdaPyrVty2cf\n",
            "Name: Envio de Álbum - Organizador, ID: 18sxdkn-rJBIpV9zsM7VYmrNdp33M3RnCgFfDiImG4ZQ\n",
            "Name: Envio de Selfie - Usuário (File responses), ID: 1TIg8DPiAAzOtyOnRDDkW26F3z0by6iA1X_HskpxuPPMt1jyj76mrrB-2F6sLGSHGr9vTQntU\n",
            "Name: Envio de Álbum (File responses), ID: 1pX9LdtpL9D30jHKcfBX5me8wspIDwwUZmVi2fM0NDxYpVgaG2lRpXLS3rJuLay3jDW2V2mQ8\n",
            "Name: Oscar_Emmy_2023_2024, ID: 1gehG-x3DdolRQKfMzeTJh3zRovBSNltH\n"
          ]
        },
        {
          "output_type": "execute_result",
          "data": {
            "text/plain": [
              "[{'id': '1HCVTIHQ0DIQRWyl1vAuW-XU6anK_CqD_GIGGCnkcV6E',\n",
              "  'name': 'Envio de Selfie - Usuário (respostas)'},\n",
              " {'id': '1RcmynInVP3jFfeqd7g8ocq8El1iOg2Qa3VpBGc-_JNY',\n",
              "  'name': 'Envio de Álbum - Organizador (respostas)'},\n",
              " {'id': '1BNUjfznWTN6AcPNi2nABAcRUJ08CnNaoacZ-PH6kqzM',\n",
              "  'name': 'Envio de Selfie - Usuário'},\n",
              " {'id': '1ra03dT_nthAPFHh_zFeKfgT91_kiU2Cq', 'name': 'Albums'},\n",
              " {'id': '1HXfpPcdXlm8LUGjPFux0vdaPyrVty2cf', 'name': 'Colabs'},\n",
              " {'id': '18sxdkn-rJBIpV9zsM7VYmrNdp33M3RnCgFfDiImG4ZQ',\n",
              "  'name': 'Envio de Álbum - Organizador'},\n",
              " {'id': '1TIg8DPiAAzOtyOnRDDkW26F3z0by6iA1X_HskpxuPPMt1jyj76mrrB-2F6sLGSHGr9vTQntU',\n",
              "  'name': 'Envio de Selfie - Usuário (File responses)'},\n",
              " {'id': '1pX9LdtpL9D30jHKcfBX5me8wspIDwwUZmVi2fM0NDxYpVgaG2lRpXLS3rJuLay3jDW2V2mQ8',\n",
              "  'name': 'Envio de Álbum (File responses)'},\n",
              " {'id': '1gehG-x3DdolRQKfMzeTJh3zRovBSNltH', 'name': 'Oscar_Emmy_2023_2024'}]"
            ]
          },
          "metadata": {},
          "execution_count": 67
        }
      ],
      "source": [
        "# If everything is correct, should show the shared folder items\n",
        "list_files_in_shared_folder(SHOWFACE_FOLDER)"
      ]
    },
    {
      "cell_type": "markdown",
      "metadata": {
        "id": "shL8mxll2IlA"
      },
      "source": [
        "# Pre-process\n",
        "Faz download das selfies ainda não processadas e seus respectivos álbuns de acordo com o docs de respostas."
      ]
    },
    {
      "cell_type": "code",
      "execution_count": null,
      "metadata": {
        "colab": {
          "base_uri": "https://localhost:8080/"
        },
        "id": "TGzBuhLV2jnD",
        "outputId": "4cd5aac9-6c1d-4ba7-80b6-f208646067ed"
      },
      "outputs": [
        {
          "output_type": "execute_result",
          "data": {
            "text/plain": [
              "   Carimbo de data/hora Qual é o seu nome? Informe o seu email:  \\\n",
              "10  18/12/2024 23:54:46      Florence Pugh     flfp@cin.ufpe.br   \n",
              "11  18/12/2024 23:55:17            Zendaya     flfp@cin.ufpe.br   \n",
              "12  18/12/2024 23:55:41             Jeremy     flfp@cin.ufpe.br   \n",
              "\n",
              "                       Envie uma selfie do seu rosto: Qual o nome do evento?  \\\n",
              "10  https://drive.google.com/open?id=1pxr-FyUKUInS...             Oscar 2024   \n",
              "11  https://drive.google.com/open?id=15IkCFFqdT-3h...             Oscar 2024   \n",
              "12  https://drive.google.com/open?id=1A1KcHwjLs6kp...                 Grammy   \n",
              "\n",
              "    PROCESSADO?  \n",
              "10        False  \n",
              "11        False  \n",
              "12        False  "
            ],
            "text/html": [
              "\n",
              "  <div id=\"df-85e3a8bd-3987-4c06-947e-58aa4ea7daaa\" class=\"colab-df-container\">\n",
              "    <div>\n",
              "<style scoped>\n",
              "    .dataframe tbody tr th:only-of-type {\n",
              "        vertical-align: middle;\n",
              "    }\n",
              "\n",
              "    .dataframe tbody tr th {\n",
              "        vertical-align: top;\n",
              "    }\n",
              "\n",
              "    .dataframe thead th {\n",
              "        text-align: right;\n",
              "    }\n",
              "</style>\n",
              "<table border=\"1\" class=\"dataframe\">\n",
              "  <thead>\n",
              "    <tr style=\"text-align: right;\">\n",
              "      <th></th>\n",
              "      <th>Carimbo de data/hora</th>\n",
              "      <th>Qual é o seu nome?</th>\n",
              "      <th>Informe o seu email:</th>\n",
              "      <th>Envie uma selfie do seu rosto:</th>\n",
              "      <th>Qual o nome do evento?</th>\n",
              "      <th>PROCESSADO?</th>\n",
              "    </tr>\n",
              "  </thead>\n",
              "  <tbody>\n",
              "    <tr>\n",
              "      <th>10</th>\n",
              "      <td>18/12/2024 23:54:46</td>\n",
              "      <td>Florence Pugh</td>\n",
              "      <td>flfp@cin.ufpe.br</td>\n",
              "      <td>https://drive.google.com/open?id=1pxr-FyUKUInS...</td>\n",
              "      <td>Oscar 2024</td>\n",
              "      <td>False</td>\n",
              "    </tr>\n",
              "    <tr>\n",
              "      <th>11</th>\n",
              "      <td>18/12/2024 23:55:17</td>\n",
              "      <td>Zendaya</td>\n",
              "      <td>flfp@cin.ufpe.br</td>\n",
              "      <td>https://drive.google.com/open?id=15IkCFFqdT-3h...</td>\n",
              "      <td>Oscar 2024</td>\n",
              "      <td>False</td>\n",
              "    </tr>\n",
              "    <tr>\n",
              "      <th>12</th>\n",
              "      <td>18/12/2024 23:55:41</td>\n",
              "      <td>Jeremy</td>\n",
              "      <td>flfp@cin.ufpe.br</td>\n",
              "      <td>https://drive.google.com/open?id=1A1KcHwjLs6kp...</td>\n",
              "      <td>Grammy</td>\n",
              "      <td>False</td>\n",
              "    </tr>\n",
              "  </tbody>\n",
              "</table>\n",
              "</div>\n",
              "    <div class=\"colab-df-buttons\">\n",
              "\n",
              "  <div class=\"colab-df-container\">\n",
              "    <button class=\"colab-df-convert\" onclick=\"convertToInteractive('df-85e3a8bd-3987-4c06-947e-58aa4ea7daaa')\"\n",
              "            title=\"Convert this dataframe to an interactive table.\"\n",
              "            style=\"display:none;\">\n",
              "\n",
              "  <svg xmlns=\"http://www.w3.org/2000/svg\" height=\"24px\" viewBox=\"0 -960 960 960\">\n",
              "    <path d=\"M120-120v-720h720v720H120Zm60-500h600v-160H180v160Zm220 220h160v-160H400v160Zm0 220h160v-160H400v160ZM180-400h160v-160H180v160Zm440 0h160v-160H620v160ZM180-180h160v-160H180v160Zm440 0h160v-160H620v160Z\"/>\n",
              "  </svg>\n",
              "    </button>\n",
              "\n",
              "  <style>\n",
              "    .colab-df-container {\n",
              "      display:flex;\n",
              "      gap: 12px;\n",
              "    }\n",
              "\n",
              "    .colab-df-convert {\n",
              "      background-color: #E8F0FE;\n",
              "      border: none;\n",
              "      border-radius: 50%;\n",
              "      cursor: pointer;\n",
              "      display: none;\n",
              "      fill: #1967D2;\n",
              "      height: 32px;\n",
              "      padding: 0 0 0 0;\n",
              "      width: 32px;\n",
              "    }\n",
              "\n",
              "    .colab-df-convert:hover {\n",
              "      background-color: #E2EBFA;\n",
              "      box-shadow: 0px 1px 2px rgba(60, 64, 67, 0.3), 0px 1px 3px 1px rgba(60, 64, 67, 0.15);\n",
              "      fill: #174EA6;\n",
              "    }\n",
              "\n",
              "    .colab-df-buttons div {\n",
              "      margin-bottom: 4px;\n",
              "    }\n",
              "\n",
              "    [theme=dark] .colab-df-convert {\n",
              "      background-color: #3B4455;\n",
              "      fill: #D2E3FC;\n",
              "    }\n",
              "\n",
              "    [theme=dark] .colab-df-convert:hover {\n",
              "      background-color: #434B5C;\n",
              "      box-shadow: 0px 1px 3px 1px rgba(0, 0, 0, 0.15);\n",
              "      filter: drop-shadow(0px 1px 2px rgba(0, 0, 0, 0.3));\n",
              "      fill: #FFFFFF;\n",
              "    }\n",
              "  </style>\n",
              "\n",
              "    <script>\n",
              "      const buttonEl =\n",
              "        document.querySelector('#df-85e3a8bd-3987-4c06-947e-58aa4ea7daaa button.colab-df-convert');\n",
              "      buttonEl.style.display =\n",
              "        google.colab.kernel.accessAllowed ? 'block' : 'none';\n",
              "\n",
              "      async function convertToInteractive(key) {\n",
              "        const element = document.querySelector('#df-85e3a8bd-3987-4c06-947e-58aa4ea7daaa');\n",
              "        const dataTable =\n",
              "          await google.colab.kernel.invokeFunction('convertToInteractive',\n",
              "                                                    [key], {});\n",
              "        if (!dataTable) return;\n",
              "\n",
              "        const docLinkHtml = 'Like what you see? Visit the ' +\n",
              "          '<a target=\"_blank\" href=https://colab.research.google.com/notebooks/data_table.ipynb>data table notebook</a>'\n",
              "          + ' to learn more about interactive tables.';\n",
              "        element.innerHTML = '';\n",
              "        dataTable['output_type'] = 'display_data';\n",
              "        await google.colab.output.renderOutput(dataTable, element);\n",
              "        const docLink = document.createElement('div');\n",
              "        docLink.innerHTML = docLinkHtml;\n",
              "        element.appendChild(docLink);\n",
              "      }\n",
              "    </script>\n",
              "  </div>\n",
              "\n",
              "\n",
              "<div id=\"df-1dd12033-cc78-4bf2-abfe-2de714ced377\">\n",
              "  <button class=\"colab-df-quickchart\" onclick=\"quickchart('df-1dd12033-cc78-4bf2-abfe-2de714ced377')\"\n",
              "            title=\"Suggest charts\"\n",
              "            style=\"display:none;\">\n",
              "\n",
              "<svg xmlns=\"http://www.w3.org/2000/svg\" height=\"24px\"viewBox=\"0 0 24 24\"\n",
              "     width=\"24px\">\n",
              "    <g>\n",
              "        <path d=\"M19 3H5c-1.1 0-2 .9-2 2v14c0 1.1.9 2 2 2h14c1.1 0 2-.9 2-2V5c0-1.1-.9-2-2-2zM9 17H7v-7h2v7zm4 0h-2V7h2v10zm4 0h-2v-4h2v4z\"/>\n",
              "    </g>\n",
              "</svg>\n",
              "  </button>\n",
              "\n",
              "<style>\n",
              "  .colab-df-quickchart {\n",
              "      --bg-color: #E8F0FE;\n",
              "      --fill-color: #1967D2;\n",
              "      --hover-bg-color: #E2EBFA;\n",
              "      --hover-fill-color: #174EA6;\n",
              "      --disabled-fill-color: #AAA;\n",
              "      --disabled-bg-color: #DDD;\n",
              "  }\n",
              "\n",
              "  [theme=dark] .colab-df-quickchart {\n",
              "      --bg-color: #3B4455;\n",
              "      --fill-color: #D2E3FC;\n",
              "      --hover-bg-color: #434B5C;\n",
              "      --hover-fill-color: #FFFFFF;\n",
              "      --disabled-bg-color: #3B4455;\n",
              "      --disabled-fill-color: #666;\n",
              "  }\n",
              "\n",
              "  .colab-df-quickchart {\n",
              "    background-color: var(--bg-color);\n",
              "    border: none;\n",
              "    border-radius: 50%;\n",
              "    cursor: pointer;\n",
              "    display: none;\n",
              "    fill: var(--fill-color);\n",
              "    height: 32px;\n",
              "    padding: 0;\n",
              "    width: 32px;\n",
              "  }\n",
              "\n",
              "  .colab-df-quickchart:hover {\n",
              "    background-color: var(--hover-bg-color);\n",
              "    box-shadow: 0 1px 2px rgba(60, 64, 67, 0.3), 0 1px 3px 1px rgba(60, 64, 67, 0.15);\n",
              "    fill: var(--button-hover-fill-color);\n",
              "  }\n",
              "\n",
              "  .colab-df-quickchart-complete:disabled,\n",
              "  .colab-df-quickchart-complete:disabled:hover {\n",
              "    background-color: var(--disabled-bg-color);\n",
              "    fill: var(--disabled-fill-color);\n",
              "    box-shadow: none;\n",
              "  }\n",
              "\n",
              "  .colab-df-spinner {\n",
              "    border: 2px solid var(--fill-color);\n",
              "    border-color: transparent;\n",
              "    border-bottom-color: var(--fill-color);\n",
              "    animation:\n",
              "      spin 1s steps(1) infinite;\n",
              "  }\n",
              "\n",
              "  @keyframes spin {\n",
              "    0% {\n",
              "      border-color: transparent;\n",
              "      border-bottom-color: var(--fill-color);\n",
              "      border-left-color: var(--fill-color);\n",
              "    }\n",
              "    20% {\n",
              "      border-color: transparent;\n",
              "      border-left-color: var(--fill-color);\n",
              "      border-top-color: var(--fill-color);\n",
              "    }\n",
              "    30% {\n",
              "      border-color: transparent;\n",
              "      border-left-color: var(--fill-color);\n",
              "      border-top-color: var(--fill-color);\n",
              "      border-right-color: var(--fill-color);\n",
              "    }\n",
              "    40% {\n",
              "      border-color: transparent;\n",
              "      border-right-color: var(--fill-color);\n",
              "      border-top-color: var(--fill-color);\n",
              "    }\n",
              "    60% {\n",
              "      border-color: transparent;\n",
              "      border-right-color: var(--fill-color);\n",
              "    }\n",
              "    80% {\n",
              "      border-color: transparent;\n",
              "      border-right-color: var(--fill-color);\n",
              "      border-bottom-color: var(--fill-color);\n",
              "    }\n",
              "    90% {\n",
              "      border-color: transparent;\n",
              "      border-bottom-color: var(--fill-color);\n",
              "    }\n",
              "  }\n",
              "</style>\n",
              "\n",
              "  <script>\n",
              "    async function quickchart(key) {\n",
              "      const quickchartButtonEl =\n",
              "        document.querySelector('#' + key + ' button');\n",
              "      quickchartButtonEl.disabled = true;  // To prevent multiple clicks.\n",
              "      quickchartButtonEl.classList.add('colab-df-spinner');\n",
              "      try {\n",
              "        const charts = await google.colab.kernel.invokeFunction(\n",
              "            'suggestCharts', [key], {});\n",
              "      } catch (error) {\n",
              "        console.error('Error during call to suggestCharts:', error);\n",
              "      }\n",
              "      quickchartButtonEl.classList.remove('colab-df-spinner');\n",
              "      quickchartButtonEl.classList.add('colab-df-quickchart-complete');\n",
              "    }\n",
              "    (() => {\n",
              "      let quickchartButtonEl =\n",
              "        document.querySelector('#df-1dd12033-cc78-4bf2-abfe-2de714ced377 button');\n",
              "      quickchartButtonEl.style.display =\n",
              "        google.colab.kernel.accessAllowed ? 'block' : 'none';\n",
              "    })();\n",
              "  </script>\n",
              "</div>\n",
              "\n",
              "    </div>\n",
              "  </div>\n"
            ],
            "application/vnd.google.colaboratory.intrinsic+json": {
              "type": "dataframe",
              "variable_name": "filtered_answers",
              "repr_error": "0"
            }
          },
          "metadata": {},
          "execution_count": 68
        }
      ],
      "source": [
        "answers = get_google_sheet_as_dataframe(SELFIES_DOCS)\n",
        "filtered_answers = answers[(answers[\"PROCESSADO?\"] == False) & (answers[\"Qual é o seu nome?\"].notna())] # gets all rows that are \"PROCESSADO?\" = False and Name is not NaN\n",
        "filtered_answers.head()"
      ]
    },
    {
      "cell_type": "code",
      "execution_count": null,
      "metadata": {
        "colab": {
          "base_uri": "https://localhost:8080/"
        },
        "id": "CnG2nBK2BDKq",
        "outputId": "ff18d3fc-233f-455f-ae64-5776248cc484"
      },
      "outputs": [
        {
          "output_type": "stream",
          "name": "stdout",
          "text": [
            "Files in the shared folder:\n",
            "Name: Oscar 2024, ID: 1lWirVxk7NTZSSHfHjkQ4rayT8UzOuZfc\n",
            "Name: Grammy, ID: 15VJ2HN6oKgxr8cVYCgsjRsARDQbeSu1K\n",
            "[{'id': '1lWirVxk7NTZSSHfHjkQ4rayT8UzOuZfc', 'name': 'Oscar 2024'}, {'id': '15VJ2HN6oKgxr8cVYCgsjRsARDQbeSu1K', 'name': 'Grammy'}]\n",
            "Download 100% complete.\n",
            "File downloaded to /content/Florence Pugh.png\n",
            "Oscar 2024 Oscar 2024\n",
            "Files in the shared folder:\n",
            "Name: images, ID: 1EwfKs3O6f08QRttvLFGKHy-jop0kckQB\n",
            "Download 100% complete.\n",
            "File downloaded to /content/Zendaya.png\n",
            "Oscar 2024 Oscar 2024\n",
            "Files in the shared folder:\n",
            "Name: images, ID: 1EwfKs3O6f08QRttvLFGKHy-jop0kckQB\n",
            "Download 100% complete.\n",
            "File downloaded to /content/Jeremy.png\n",
            "Grammy Oscar 2024\n",
            "Grammy Grammy\n",
            "Files in the shared folder:\n",
            "Name: images, ID: 1B4Q194ASxcxL2T0RRKBsvzjSvUcoT29O\n",
            "[{'name': 'Florence Pugh', 'email': 'flfp@cin.ufpe.br', 'selfie_path': '/content/Florence Pugh.png', 'album_name': 'Oscar 2024', 'album_path': '/content/albums/Oscar 2024', 'album_original_driveid': '1EwfKs3O6f08QRttvLFGKHy-jop0kckQB'}, {'name': 'Zendaya', 'email': 'flfp@cin.ufpe.br', 'selfie_path': '/content/Zendaya.png', 'album_name': 'Oscar 2024', 'album_path': '/content/albums/Oscar 2024', 'album_original_driveid': '1EwfKs3O6f08QRttvLFGKHy-jop0kckQB'}, {'name': 'Jeremy', 'email': 'flfp@cin.ufpe.br', 'selfie_path': '/content/Jeremy.png', 'album_name': 'Grammy', 'album_path': '/content/albums/Grammy', 'album_original_driveid': '1B4Q194ASxcxL2T0RRKBsvzjSvUcoT29O'}]\n"
          ]
        }
      ],
      "source": [
        "answers_to_process = []\n",
        "albums = list_files_in_shared_folder(ALBUMS_FOLDER)\n",
        "print(albums)\n",
        "\n",
        "for index, answer in filtered_answers.iterrows():\n",
        "  file_id = answer[\"Envie uma selfie do seu rosto:\"].split(\"=\")[1]\n",
        "  # download reference iamge\n",
        "  file_path = download_file(file_id, unidecode.unidecode(answer[\"Qual é o seu nome?\"]), 'png')\n",
        "\n",
        "  # download album\n",
        "  album = answer['Qual o nome do evento?']\n",
        "  album_id = ''\n",
        "  for album_file in albums:\n",
        "    print(album, album_file['name'])\n",
        "    if album_file['name'] == album:\n",
        "      album_id = album_file['id']\n",
        "      break\n",
        "\n",
        "  album_subfolders = list_files_in_shared_folder(album_id)\n",
        "  cropped_subfolder_id = ''\n",
        "  original_subfolder_id = ''\n",
        "  for subfolder in album_subfolders:\n",
        "    if subfolder['name'] == 'cropped':\n",
        "      cropped_subfolder_id = subfolder['id']\n",
        "    elif subfolder['name'] == 'images':\n",
        "      original_subfolder_id = subfolder['id']\n",
        "\n",
        "  if not os.path.isdir(f'/content/albums/{album}'):\n",
        "    download_folder_contents(original_subfolder_id, f'/content/albums/{album}')\n",
        "\n",
        "  answers_to_process.append({\n",
        "      'name': answer['Qual é o seu nome?'],\n",
        "      'email': answer['Informe o seu email:'],\n",
        "      'selfie_path': file_path,\n",
        "      'album_name': album,\n",
        "      'album_path': f'/content/albums/{album}',\n",
        "      'album_original_driveid': original_subfolder_id\n",
        "  })\n",
        "\n",
        "print(answers_to_process)"
      ]
    },
    {
      "cell_type": "markdown",
      "metadata": {
        "id": "tA0gfqIbCaQ6"
      },
      "source": [
        "# Face verification e envio por e-mail"
      ]
    },
    {
      "cell_type": "code",
      "execution_count": null,
      "metadata": {
        "colab": {
          "base_uri": "https://localhost:8080/"
        },
        "id": "HlbzB_udBKHd",
        "outputId": "2d4f4e6d-a9a9-43bf-932d-5da37d48971c"
      },
      "outputs": [
        {
          "output_type": "stream",
          "name": "stdout",
          "text": [
            "Digite seu e-mail: flfp@cin.ufpe.br\n",
            "Digite sua senha (será ocultada): ··········\n",
            "24-12-19 03:36:34 - Searching /content/Florence Pugh.png in 165 length datastore\n",
            "24-12-19 03:36:35 - find function duration 1.1298203468322754 seconds\n",
            "Found:  ['/content/albums/Oscar 2024/MV5BZDJjZDY0YWItYmIzMC00ZGJiLWE4ZTYtMWVjMWMxMmNmYmVkXkEyXkFqcGc@._V1_.jpg', '/content/albums/Oscar 2024/MV5BZGMxYzJjNjUtNTgyMy00YzQzLWE1MzAtNzJiNzVlNTg5NjA1XkEyXkFqcGc@._V1_.jpg', '/content/albums/Oscar 2024/MV5BZmMyNDc4YWQtMTQyZS00MTg4LTllNGYtMjU2MzhmY2NkMzU2XkEyXkFqcGc@._V1_QL75_UX692_.jpg']\n",
            "Email successfully sent to flfp@cin.ufpe.br.\n",
            "24-12-19 03:36:39 - Searching /content/Zendaya.png in 165 length datastore\n",
            "24-12-19 03:36:40 - find function duration 0.9786741733551025 seconds\n",
            "Found:  ['/content/albums/Oscar 2024/MV5BNDY2YWE4NTctNzU0Yi00MzE4LTljMDEtN2M0MWVmMTg4NGI1XkEyXkFqcGc@._V1_.jpg', '/content/albums/Oscar 2024/MV5BZjkyYjIwZjktYjhiNy00MGZiLThmNmEtMmFmNzU5ZjNhMTA4XkEyXkFqcGc@._V1_.jpg']\n",
            "Email successfully sent to flfp@cin.ufpe.br.\n",
            "24-12-19 03:36:48 - Searching /content/Jeremy.png in 159 length datastore\n",
            "24-12-19 03:36:52 - find function duration 4.383397102355957 seconds\n",
            "Found:  ['/content/albums/Grammy/MV5BMjYzM2I1M2EtM2I0Yi00ODQxLTg0ZjMtOWMzMGVmMzQ3NDMzXkEyXkFqcGc@._V1_QL75_UX292_.jpg']\n",
            "Email successfully sent to flfp@cin.ufpe.br.\n"
          ]
        }
      ],
      "source": [
        "# Solicitar informações para envio do e-mail\n",
        "sender_email = input(\"Digite seu e-mail: \")\n",
        "sender_password = getpass.getpass(\"Digite sua senha (será ocultada): \")\n",
        "\n",
        "# COMPARAR FOTO(PATH) DE 1 ROSTO COM LISTA DE FOTOS(PATHS) DE 1 ROSTO E RETORNA LISTA DE FOTOS CORRESPONDENTES(PATHS)\n",
        "for answer in answers_to_process:\n",
        "  client_path = answer['selfie_path']  # imagem referência\n",
        "\n",
        "  matches = DeepFace.find(\n",
        "    img_path = client_path,\n",
        "    db_path = answer['album_path'],\n",
        "    enforce_detection=False,\n",
        "    threshold=0.5,\n",
        "    model_name = 'Facenet',\n",
        "  )[0]\n",
        "\n",
        "  images_paths = list(matches['identity'])\n",
        "\n",
        "  print(\"Found: \", images_paths)\n",
        "\n",
        "  # https://www.google.com/settings/security/lesssecureapps\n",
        "  send_email_with_images(answer['email'], images_paths, sender_email, sender_password, answer['name'], answer['album_name'])\n"
      ]
    },
    {
      "cell_type": "markdown",
      "source": [
        "# Update answers docs\n",
        "Mark images as processed"
      ],
      "metadata": {
        "id": "3Qki5HQ3NPPg"
      }
    },
    {
      "cell_type": "code",
      "source": [
        "for idx, answer in answers.iterrows():\n",
        "  if not isinstance(answer['Qual é o seu nome?'], float): # checks for NaNs\n",
        "    answers.at[idx, 'PROCESSADO?'] = True\n",
        "\n",
        "update_google_sheet_from_dataframe(SELFIES_DOCS, answers)"
      ],
      "metadata": {
        "colab": {
          "base_uri": "https://localhost:8080/"
        },
        "id": "W2NWQ8fqXipW",
        "outputId": "991a0c25-ce3b-4fef-fe6d-08a661763c55"
      },
      "execution_count": null,
      "outputs": [
        {
          "output_type": "stream",
          "name": "stdout",
          "text": [
            "Spreadsheet 1HCVTIHQ0DIQRWyl1vAuW-XU6anK_CqD_GIGGCnkcV6E updated successfully.\n"
          ]
        }
      ]
    }
  ],
  "metadata": {
    "colab": {
      "collapsed_sections": [
        "rFNplCheOp9t",
        "RFYZHWQ1Ilcc",
        "1V0YIqO7Ifr8"
      ],
      "provenance": [],
      "gpuType": "T4"
    },
    "kernelspec": {
      "display_name": "Python 3",
      "name": "python3"
    },
    "language_info": {
      "name": "python"
    },
    "accelerator": "GPU"
  },
  "nbformat": 4,
  "nbformat_minor": 0
}